{
 "cells": [
  {
   "cell_type": "markdown",
   "id": "55c6642a",
   "metadata": {
    "id": "1TFwaJir_Olj",
    "papermill": {
     "duration": 0.005195,
     "end_time": "2025-03-07T05:49:43.175297",
     "exception": false,
     "start_time": "2025-03-07T05:49:43.170102",
     "status": "completed"
    },
    "tags": []
   },
   "source": [
    "# ML2025 Homework 1 - Retrieval Augmented Generation with Agents"
   ]
  },
  {
   "cell_type": "markdown",
   "id": "cb365f73",
   "metadata": {
    "id": "6tQHdH2k_Olk",
    "papermill": {
     "duration": 0.004167,
     "end_time": "2025-03-07T05:49:43.184060",
     "exception": false,
     "start_time": "2025-03-07T05:49:43.179893",
     "status": "completed"
    },
    "tags": []
   },
   "source": [
    "## Environment Setup"
   ]
  },
  {
   "cell_type": "markdown",
   "id": "0163eaa7",
   "metadata": {
    "id": "mGx000oZ_Oll",
    "papermill": {
     "duration": 0.004033,
     "end_time": "2025-03-07T05:49:43.192464",
     "exception": false,
     "start_time": "2025-03-07T05:49:43.188431",
     "status": "completed"
    },
    "tags": []
   },
   "source": [
    "In this section, we install the necessary python packages and download model weights of the quantized version of LLaMA 3.1 8B. Also, download the dataset. Note that the model weight is around 8GB."
   ]
  },
  {
   "cell_type": "code",
   "execution_count": null,
   "id": "d862cb6c",
   "metadata": {
    "execution": {
     "iopub.execute_input": "2025-03-07T05:49:43.202508Z",
     "iopub.status.busy": "2025-03-07T05:49:43.202232Z",
     "iopub.status.idle": "2025-03-07T05:50:53.686831Z",
     "shell.execute_reply": "2025-03-07T05:50:53.685927Z"
    },
    "id": "5JywoPOO_Oll",
    "papermill": {
     "duration": 70.491508,
     "end_time": "2025-03-07T05:50:53.688535",
     "exception": false,
     "start_time": "2025-03-07T05:49:43.197027",
     "status": "completed"
    },
    "tags": []
   },
   "outputs": [],
   "source": [
    "!python3 -m pip install --no-cache-dir llama-cpp-python==0.3.4 --extra-index-url https://abetlen.github.io/llama-cpp-python/whl/cu122\n",
    "!python3 -m pip install googlesearch-python bs4 charset-normalizer requests-html lxml_html_clean\n",
    "\n",
    "from pathlib import Path\n",
    "if not Path('./Meta-Llama-3.1-8B-Instruct-Q8_0.gguf').exists():\n",
    "    !wget https://huggingface.co/bartowski/Meta-Llama-3.1-8B-Instruct-GGUF/resolve/main/Meta-Llama-3.1-8B-Instruct-Q8_0.gguf\n",
    "if not Path('./public.txt').exists():\n",
    "    !wget https://www.csie.ntu.edu.tw/~ulin/public.txt\n",
    "if not Path('./private.txt').exists():\n",
    "    !wget https://www.csie.ntu.edu.tw/~ulin/private.txt"
   ]
  },
  {
   "cell_type": "code",
   "execution_count": null,
   "id": "bf390785",
   "metadata": {
    "execution": {
     "iopub.execute_input": "2025-03-07T05:50:53.725938Z",
     "iopub.status.busy": "2025-03-07T05:50:53.725602Z",
     "iopub.status.idle": "2025-03-07T05:50:56.958847Z",
     "shell.execute_reply": "2025-03-07T05:50:56.957885Z"
    },
    "id": "kX6SizAt_Olm",
    "papermill": {
     "duration": 3.253239,
     "end_time": "2025-03-07T05:50:56.960235",
     "exception": false,
     "start_time": "2025-03-07T05:50:53.706996",
     "status": "completed"
    },
    "tags": []
   },
   "outputs": [],
   "source": [
    "import torch\n",
    "if not torch.cuda.is_available():\n",
    "    raise Exception('You are not using the GPU runtime. Change it first or you will suffer from the super slow inference speed!')\n",
    "else:\n",
    "    print('You are good to go!')"
   ]
  },
  {
   "cell_type": "markdown",
   "id": "7a2023e8",
   "metadata": {
    "id": "l3iyc1qC_Olm",
    "papermill": {
     "duration": 0.026165,
     "end_time": "2025-03-07T05:50:57.004091",
     "exception": false,
     "start_time": "2025-03-07T05:50:56.977926",
     "status": "completed"
    },
    "tags": []
   },
   "source": [
    "## Prepare the LLM and LLM utility function"
   ]
  },
  {
   "cell_type": "markdown",
   "id": "f6ffe7e9",
   "metadata": {
    "id": "T59vxAo2_Olm",
    "papermill": {
     "duration": 0.017806,
     "end_time": "2025-03-07T05:50:57.039736",
     "exception": false,
     "start_time": "2025-03-07T05:50:57.021930",
     "status": "completed"
    },
    "tags": []
   },
   "source": [
    "By default, we will use the quantized version of LLaMA 3.1 8B. you can get full marks on this homework by using the provided LLM and LLM utility function. You can also try out different LLM models."
   ]
  },
  {
   "cell_type": "markdown",
   "id": "9a2aa970",
   "metadata": {
    "id": "vtepTeT3_Olm",
    "papermill": {
     "duration": 0.017696,
     "end_time": "2025-03-07T05:50:57.074576",
     "exception": false,
     "start_time": "2025-03-07T05:50:57.056880",
     "status": "completed"
    },
    "tags": []
   },
   "source": [
    "In the following code block, we will load the downloaded LLM model weights onto the GPU first.\n",
    "Then, we implemented the generate_response() function so that you can get the generated response from the LLM model more easily."
   ]
  },
  {
   "cell_type": "markdown",
   "id": "042b4be9",
   "metadata": {
    "id": "eVil2Vhe_Olm",
    "papermill": {
     "duration": 0.017881,
     "end_time": "2025-03-07T05:50:57.109673",
     "exception": false,
     "start_time": "2025-03-07T05:50:57.091792",
     "status": "completed"
    },
    "tags": []
   },
   "source": [
    "You can ignore \"llama_new_context_with_model: n_ctx_per_seq (16384) < n_ctx_train (131072) -- the full capacity of the model will not be utilized\" warning."
   ]
  },
  {
   "cell_type": "code",
   "execution_count": null,
   "id": "3bb8df07",
   "metadata": {
    "execution": {
     "iopub.execute_input": "2025-03-07T05:50:57.146339Z",
     "iopub.status.busy": "2025-03-07T05:50:57.145910Z",
     "iopub.status.idle": "2025-03-07T05:51:01.377534Z",
     "shell.execute_reply": "2025-03-07T05:51:01.376584Z"
    },
    "id": "ScyW45N__Olm",
    "papermill": {
     "duration": 4.252306,
     "end_time": "2025-03-07T05:51:01.379242",
     "exception": false,
     "start_time": "2025-03-07T05:50:57.126936",
     "status": "completed"
    },
    "tags": []
   },
   "outputs": [],
   "source": [
    "from llama_cpp import Llama\n",
    "\n",
    "# Load the model onto GPU\n",
    "llama3 = Llama(\n",
    "    \"./Meta-Llama-3.1-8B-Instruct-Q8_0.gguf\",\n",
    "    verbose=False,\n",
    "    n_gpu_layers=-1,\n",
    "    n_ctx=16384,    # This argument is how many tokens the model can take. The longer the better, but it will consume more memory. 16384 is a proper value for a GPU with 16GB VRAM.\n",
    ")\n",
    "\n",
    "def generate_response(_model: Llama, _messages: str) -> str:\n",
    "    '''\n",
    "    This function will inference the model with given messages.\n",
    "    '''\n",
    "    _output = _model.create_chat_completion(\n",
    "        _messages,\n",
    "        stop=[\"<|eot_id|>\", \"<|end_of_text|>\"],\n",
    "        max_tokens=512,    # This argument is how many tokens the model can generate.\n",
    "        temperature=0,      # This argument is the randomness of the model. 0 means no randomness. You will get the same result with the same input every time. You can try to set it to different values.\n",
    "        repeat_penalty=2.0,\n",
    "    )[\"choices\"][0][\"message\"][\"content\"]\n",
    "    return _output"
   ]
  },
  {
   "cell_type": "markdown",
   "id": "affcca98",
   "metadata": {
    "id": "tnHLwq-4_Olm",
    "papermill": {
     "duration": 0.016527,
     "end_time": "2025-03-07T05:51:01.413038",
     "exception": false,
     "start_time": "2025-03-07T05:51:01.396511",
     "status": "completed"
    },
    "tags": []
   },
   "source": [
    "## Search Tool"
   ]
  },
  {
   "cell_type": "markdown",
   "id": "56191f41",
   "metadata": {
    "id": "SYM-2ZsE_Olm",
    "papermill": {
     "duration": 0.016685,
     "end_time": "2025-03-07T05:51:01.446476",
     "exception": false,
     "start_time": "2025-03-07T05:51:01.429791",
     "status": "completed"
    },
    "tags": []
   },
   "source": [
    "The TA has implemented a search tool for you to search certain keywords using Google Search. You can use this tool to search for the relevant **web pages** for the given question. The search tool can be integrated in the following sections."
   ]
  },
  {
   "cell_type": "code",
   "execution_count": null,
   "id": "a786f32f",
   "metadata": {
    "execution": {
     "iopub.execute_input": "2025-03-07T05:51:01.480887Z",
     "iopub.status.busy": "2025-03-07T05:51:01.480421Z",
     "iopub.status.idle": "2025-03-07T05:51:01.937921Z",
     "shell.execute_reply": "2025-03-07T05:51:01.937134Z"
    },
    "id": "bEIRmZl7_Oln",
    "papermill": {
     "duration": 0.476408,
     "end_time": "2025-03-07T05:51:01.939444",
     "exception": false,
     "start_time": "2025-03-07T05:51:01.463036",
     "status": "completed"
    },
    "tags": []
   },
   "outputs": [],
   "source": [
    "from typing import List\n",
    "from googlesearch import search as _search\n",
    "from bs4 import BeautifulSoup\n",
    "from charset_normalizer import detect\n",
    "import asyncio\n",
    "from requests_html import AsyncHTMLSession\n",
    "import urllib3\n",
    "urllib3.disable_warnings()\n",
    "\n",
    "async def worker(s:AsyncHTMLSession, url:str):\n",
    "    try:\n",
    "        header_response = await asyncio.wait_for(s.head(url, verify=False), timeout=10)\n",
    "        if 'text/html' not in header_response.headers.get('Content-Type', ''):\n",
    "            return None\n",
    "        r = await asyncio.wait_for(s.get(url, verify=False), timeout=10)\n",
    "        return r.text\n",
    "    except:\n",
    "        return None\n",
    "\n",
    "async def get_htmls(urls):\n",
    "    session = AsyncHTMLSession()\n",
    "    tasks = (worker(session, url) for url in urls)\n",
    "    return await asyncio.gather(*tasks)\n",
    "\n",
    "async def search(keyword: str, n_results: int) -> List[str]:\n",
    "    '''\n",
    "    This function will search the keyword and return the text content in the first n_results web pages.\n",
    "    Warning: You may suffer from HTTP 429 errors if you search too many times in a period of time. This is unavoidable and you should take your own risk if you want to try search more results at once.\n",
    "    The rate limit is not explicitly announced by Google, hence there's not much we can do except for changing the IP or wait until Google unban you (we don't know how long the penalty will last either).\n",
    "    '''\n",
    "    keyword = keyword[:100]\n",
    "    # First, search the keyword and get the results. Also, get 2 times more results in case some of them are invalid.\n",
    "    results = list(_search(keyword, n_results * 2, lang=\"zh\", unique=True))\n",
    "    # Then, get the HTML from the results. Also, the helper function will filter out the non-HTML urls.\n",
    "    results = await get_htmls(results)\n",
    "    # Filter out the None values.\n",
    "    results = [x for x in results if x is not None]\n",
    "    # Parse the HTML.\n",
    "    results = [BeautifulSoup(x, 'html.parser') for x in results]\n",
    "    # Get the text from the HTML and remove the spaces. Also, filter out the non-utf-8 encoding.\n",
    "    results = [''.join(x.get_text().split()) for x in results if detect(x.encode()).get('encoding') == 'utf-8']\n",
    "    # Return the first n results.\n",
    "    return results[:n_results]"
   ]
  },
  {
   "cell_type": "markdown",
   "id": "76ba46a6",
   "metadata": {
    "id": "rC3zQjjj_Oln",
    "papermill": {
     "duration": 0.017797,
     "end_time": "2025-03-07T05:51:01.975757",
     "exception": false,
     "start_time": "2025-03-07T05:51:01.957960",
     "status": "completed"
    },
    "tags": []
   },
   "source": [
    "## Test the LLM inference pipeline"
   ]
  },
  {
   "cell_type": "code",
   "execution_count": null,
   "id": "fb86beea",
   "metadata": {
    "execution": {
     "iopub.execute_input": "2025-03-07T05:51:02.011769Z",
     "iopub.status.busy": "2025-03-07T05:51:02.011354Z",
     "iopub.status.idle": "2025-03-07T05:51:09.941241Z",
     "shell.execute_reply": "2025-03-07T05:51:09.940053Z"
    },
    "id": "8dmGCARd_Oln",
    "papermill": {
     "duration": 7.950239,
     "end_time": "2025-03-07T05:51:09.942888",
     "exception": false,
     "start_time": "2025-03-07T05:51:01.992649",
     "status": "completed"
    },
    "tags": []
   },
   "outputs": [],
   "source": [
    "# You can try out different questions here.\n",
    "test_question='請問誰是 Taylor Swift？'\n",
    "\n",
    "messages = [\n",
    "    {\"role\": \"system\", \"content\": \"你是 LLaMA-3.1-8B，是用來回答問題的 AI。使用中文時只會使用繁體中文來回問題。\"},    # System prompt\n",
    "    {\"role\": \"user\", \"content\": test_question}, # User prompt\n",
    "]\n",
    "\n",
    "print(generate_response(llama3, messages))"
   ]
  },
  {
   "cell_type": "markdown",
   "id": "c5547caa",
   "metadata": {
    "id": "C0-ojJuE_Oln",
    "papermill": {
     "duration": 0.016827,
     "end_time": "2025-03-07T05:51:09.977944",
     "exception": false,
     "start_time": "2025-03-07T05:51:09.961117",
     "status": "completed"
    },
    "tags": []
   },
   "source": [
    "## Agents"
   ]
  },
  {
   "cell_type": "markdown",
   "id": "164692e8",
   "metadata": {
    "id": "HGsIPud3_Oln",
    "papermill": {
     "duration": 0.017308,
     "end_time": "2025-03-07T05:51:10.012171",
     "exception": false,
     "start_time": "2025-03-07T05:51:09.994863",
     "status": "completed"
    },
    "tags": []
   },
   "source": [
    "The TA has implemented the Agent class for you. You can use this class to create agents that can interact with the LLM model. The Agent class has the following attributes and methods:\n",
    "- Attributes:\n",
    "    - role_description: The role of the agent. For example, if you want this agent to be a history expert, you can set the role_description to \"You are a history expert. You will only answer questions based on what really happened in the past. Do not generate any answer if you don't have reliable sources.\".\n",
    "    - task_description: The task of the agent. For example, if you want this agent to answer questions only in yes/no, you can set the task_description to \"Please answer the following question in yes/no. Explanations are not needed.\"\n",
    "    - llm: Just an indicator of the LLM model used by the agent.\n",
    "- Method:\n",
    "    - inference: This method takes a message as input and returns the generated response from the LLM model. The message will first be formatted into proper input for the LLM model. (This is where you can set some global instructions like \"Please speak in a polite manner\" or \"Please provide a detailed explanation\".) The generated response will be returned as the output."
   ]
  },
  {
   "cell_type": "code",
   "execution_count": null,
   "id": "7b5c0f45",
   "metadata": {
    "execution": {
     "iopub.execute_input": "2025-03-07T05:51:10.047542Z",
     "iopub.status.busy": "2025-03-07T05:51:10.047267Z",
     "iopub.status.idle": "2025-03-07T05:51:10.052007Z",
     "shell.execute_reply": "2025-03-07T05:51:10.051288Z"
    },
    "id": "zjG-UwDX_Oln",
    "papermill": {
     "duration": 0.02416,
     "end_time": "2025-03-07T05:51:10.053303",
     "exception": false,
     "start_time": "2025-03-07T05:51:10.029143",
     "status": "completed"
    },
    "tags": []
   },
   "outputs": [],
   "source": [
    "class LLMAgent():\n",
    "    def __init__(self, role_description: str, task_description: str, llm:str=\"bartowski/Meta-Llama-3.1-8B-Instruct-GGUF\"):\n",
    "        self.role_description = role_description   # Role means who this agent should act like. e.g. the history expert, the manager......\n",
    "        self.task_description = task_description    # Task description instructs what task should this agent solve.\n",
    "        self.llm = llm  # LLM indicates which LLM backend this agent is using.\n",
    "    def inference(self, message:str) -> str:\n",
    "        if self.llm == 'bartowski/Meta-Llama-3.1-8B-Instruct-GGUF': # If using the default one.\n",
    "            # TODO: Design the system prompt and user prompt here.\n",
    "            # Format the messsages first.\n",
    "            messages = [\n",
    "                {\"role\": \"system\", \"content\": f\"{self.role_description}\"},  # Hint: you may want the agents to speak Traditional Chinese only.\n",
    "                {\"role\": \"user\", \"content\": f\"{self.task_description}\\n{message}\"}, # Hint: you may want the agents to clearly distinguish the task descriptions and the user messages. A proper seperation text rather than a simple line break is recommended.\n",
    "            ]\n",
    "            return generate_response(llama3, messages)\n",
    "        else:\n",
    "            # TODO: If you want to use LLMs other than the given one, please implement the inference part on your own.\n",
    "            return \"\""
   ]
  },
  {
   "cell_type": "markdown",
   "id": "63e897d8",
   "metadata": {
    "id": "0-ueJrgP_Oln",
    "papermill": {
     "duration": 0.016919,
     "end_time": "2025-03-07T05:51:10.088053",
     "exception": false,
     "start_time": "2025-03-07T05:51:10.071134",
     "status": "completed"
    },
    "tags": []
   },
   "source": [
    "TODO 1: Design the role description and task description for each agent."
   ]
  },
  {
   "cell_type": "code",
   "execution_count": null,
   "id": "fef694a4",
   "metadata": {
    "execution": {
     "iopub.execute_input": "2025-03-07T05:51:10.123915Z",
     "iopub.status.busy": "2025-03-07T05:51:10.123568Z",
     "iopub.status.idle": "2025-03-07T05:51:10.127852Z",
     "shell.execute_reply": "2025-03-07T05:51:10.127047Z"
    },
    "id": "DzPzmNnj_Oln",
    "papermill": {
     "duration": 0.024154,
     "end_time": "2025-03-07T05:51:10.129152",
     "exception": false,
     "start_time": "2025-03-07T05:51:10.104998",
     "status": "completed"
    },
    "tags": []
   },
   "outputs": [],
   "source": [
    "# TODO: Design the role and task description for each agent.\n",
    "\n",
    "# This agent may help you filter out the irrelevant parts in question descriptions.\n",
    "question_extraction_agent = LLMAgent(\n",
    "    role_description=\"你是 LLaMA-3.1-8B，是從問題描述中提取唯一一個關鍵問題的 AI。\",\n",
    "    task_description=\"請從以下描述中提取關鍵問題：\",\n",
    ")\n",
    "\n",
    "# This agent may help you extract the keywords in a question so that the search tool can find more accurate results.\n",
    "keyword_extraction_agent = LLMAgent(\n",
    "    role_description=\"你是 LLaMA-3.1-8B，是從問題描述中找出關鍵詞的 AI。\",\n",
    "    task_description=\"請提取以下描述中的關鍵詞：\",\n",
    ")\n",
    "\n",
    "abstract_agent = LLMAgent(\n",
    "    role_description=\"你是 LLaMA-3.1-8B，是用來摘要資料的 AI。\",\n",
    "    task_description=\"摘要以下網路資料：\",\n",
    ")\n",
    "\n",
    "# This agent is the core component that answers the question.\n",
    "qa_agent = LLMAgent(\n",
    "    role_description=\"你是 LLaMA-3.1-8B，是根據提供的相關資料回答問題的 AI。\",\n",
    "    task_description=\"請根據提供的相關資料回答以下問題：\",\n",
    ")"
   ]
  },
  {
   "cell_type": "markdown",
   "id": "f8b0bc1f",
   "metadata": {
    "id": "A9eoywr7_Oln",
    "papermill": {
     "duration": 0.016916,
     "end_time": "2025-03-07T05:51:10.163035",
     "exception": false,
     "start_time": "2025-03-07T05:51:10.146119",
     "status": "completed"
    },
    "tags": []
   },
   "source": [
    "## RAG pipeline"
   ]
  },
  {
   "cell_type": "markdown",
   "id": "4df49a5f",
   "metadata": {
    "id": "8HDOjNYJ_Oln",
    "papermill": {
     "duration": 0.017558,
     "end_time": "2025-03-07T05:51:10.197880",
     "exception": false,
     "start_time": "2025-03-07T05:51:10.180322",
     "status": "completed"
    },
    "tags": []
   },
   "source": [
    "TODO 2: Implement the RAG pipeline."
   ]
  },
  {
   "cell_type": "markdown",
   "id": "abbb8312",
   "metadata": {
    "id": "MRGNa-1i_Oln",
    "papermill": {
     "duration": 0.016854,
     "end_time": "2025-03-07T05:51:10.231753",
     "exception": false,
     "start_time": "2025-03-07T05:51:10.214899",
     "status": "completed"
    },
    "tags": []
   },
   "source": [
    "Please refer to the homework description slides for hints.\n",
    "\n",
    "Also, there might be more heuristics (e.g. classifying the questions based on their lengths, determining if the question need a search or not, reconfirm the answer before returning it to the user......) that are not shown in the flow charts. You can use your creativity to come up with a better solution!"
   ]
  },
  {
   "cell_type": "markdown",
   "id": "701c744e",
   "metadata": {
    "id": "cMaIsKAZ_Olo",
    "papermill": {
     "duration": 0.017355,
     "end_time": "2025-03-07T05:51:10.266206",
     "exception": false,
     "start_time": "2025-03-07T05:51:10.248851",
     "status": "completed"
    },
    "tags": []
   },
   "source": [
    "- Naive approach (simple baseline)\n",
    "\n",
    "    ![](https://www.csie.ntu.edu.tw/~ulin/naive.png)"
   ]
  },
  {
   "cell_type": "markdown",
   "id": "8fe78538",
   "metadata": {
    "id": "mppO-oOO_Olo",
    "papermill": {
     "duration": 0.017068,
     "end_time": "2025-03-07T05:51:10.300706",
     "exception": false,
     "start_time": "2025-03-07T05:51:10.283638",
     "status": "completed"
    },
    "tags": []
   },
   "source": [
    "- Naive RAG approach (medium baseline)\n",
    "\n",
    "    ![](https://www.csie.ntu.edu.tw/~ulin/naive_rag.png)"
   ]
  },
  {
   "cell_type": "markdown",
   "id": "8af26756",
   "metadata": {
    "id": "HYxbciLO_Olo",
    "papermill": {
     "duration": 0.017046,
     "end_time": "2025-03-07T05:51:10.335163",
     "exception": false,
     "start_time": "2025-03-07T05:51:10.318117",
     "status": "completed"
    },
    "tags": []
   },
   "source": [
    "- RAG with agents (strong baseline)\n",
    "\n",
    "    ![](https://www.csie.ntu.edu.tw/~ulin/rag_agent.png)"
   ]
  },
  {
   "cell_type": "code",
   "execution_count": null,
   "id": "def36a86",
   "metadata": {
    "execution": {
     "iopub.execute_input": "2025-03-07T05:51:10.371882Z",
     "iopub.status.busy": "2025-03-07T05:51:10.371416Z",
     "iopub.status.idle": "2025-03-07T05:51:10.377159Z",
     "shell.execute_reply": "2025-03-07T05:51:10.376456Z"
    },
    "id": "ztJkA7R7_Olo",
    "papermill": {
     "duration": 0.025595,
     "end_time": "2025-03-07T05:51:10.378413",
     "exception": false,
     "start_time": "2025-03-07T05:51:10.352818",
     "status": "completed"
    },
    "tags": []
   },
   "outputs": [],
   "source": [
    "async def pipeline(question: str) -> str:\n",
    "    max_input_len = 7000\n",
    "    search_num = 5\n",
    "\n",
    "    print(f\"[Original Question]: {question}\\n\")\n",
    "    \n",
    "    # Extract the refined question using the question extraction agent\n",
    "    refined_question = question_extraction_agent.inference(question)\n",
    "    print(f\"[Refined Question]: {refined_question}\\n\")\n",
    "    \n",
    "    # Extract keywords from the question using the keyword extraction agent\n",
    "    \"\"\"\n",
    "    keywords = keyword_extraction_agent.inference(question)\n",
    "    print(f\"[Keywords]: {keywords}\\n\")\"\n",
    "    \"\"\"\n",
    "    \n",
    "    # Use the search tool to get information based on the extracted keywords\n",
    "    search_results = await search(refined_question, search_num)\n",
    "    for i, result in enumerate(search_results):\n",
    "        # print(f\"[Search Result {i+1} Length]: {len(result)}\")\n",
    "        if len(result) > max_input_len:\n",
    "            result = result[:max_input_len]\n",
    "        # Use the abstract agent to summarize the search results\n",
    "        search_results[i] = abstract_agent.inference(result)\n",
    "        print(f\"[Abstract {i+1}]: {search_results[i]}\\n\")\n",
    "        if len(search_results[i]) > max_input_len/search_num:\n",
    "            search_results[i] = search_results[i][:max_input_len/search_num]\n",
    "    \n",
    "    # Combine the abstracts into a single string\n",
    "    combined_abstracts = \" \".join(search_results)\n",
    "    \n",
    "    # Combine the refined question with the search results\n",
    "    combined_input = f\"{combined_abstracts}\\n{refined_question}{combined_abstracts}\"\n",
    "    \n",
    "    # Get the final answer from the QA agent\n",
    "    final_answer = qa_agent.inference(combined_input)\n",
    "    print(f\"[Final Answer]: {final_answer}\\n\")\n",
    "    \n",
    "    return final_answer"
   ]
  },
  {
   "cell_type": "markdown",
   "id": "d42826c6",
   "metadata": {
    "id": "P_kI_9EGB0S9",
    "papermill": {
     "duration": 0.017277,
     "end_time": "2025-03-07T05:51:10.413102",
     "exception": false,
     "start_time": "2025-03-07T05:51:10.395825",
     "status": "completed"
    },
    "tags": []
   },
   "source": [
    "## Answer the questions using your pipeline!"
   ]
  },
  {
   "cell_type": "markdown",
   "id": "47be67b0",
   "metadata": {
    "id": "PN17sSZ8DUg7",
    "papermill": {
     "duration": 0.016583,
     "end_time": "2025-03-07T05:51:10.446747",
     "exception": false,
     "start_time": "2025-03-07T05:51:10.430164",
     "status": "completed"
    },
    "tags": []
   },
   "source": [
    "Since Colab has usage limit, you might encounter the disconnections. The following code will save your answer for each question. If you have mounted your Google Drive as instructed, you can just rerun the whole notebook to continue your process."
   ]
  },
  {
   "cell_type": "code",
   "execution_count": null,
   "id": "357c1d2b",
   "metadata": {
    "execution": {
     "iopub.execute_input": "2025-03-07T05:51:10.481676Z",
     "iopub.status.busy": "2025-03-07T05:51:10.481388Z",
     "iopub.status.idle": "2025-03-07T07:43:18.460527Z",
     "shell.execute_reply": "2025-03-07T07:43:18.459401Z"
    },
    "id": "plUDRTi_B39S",
    "papermill": {
     "duration": 6727.997964,
     "end_time": "2025-03-07T07:43:18.461622",
     "exception": false,
     "start_time": "2025-03-07T05:51:10.463658",
     "status": "completed"
    },
    "tags": []
   },
   "outputs": [],
   "source": [
    "from pathlib import Path\n",
    "\n",
    "# Fill in your student ID first.\n",
    "STUDENT_ID = \"B12901148\"\n",
    "\n",
    "STUDENT_ID = STUDENT_ID.lower()\n",
    "with open('./public.txt', 'r') as input_f:\n",
    "    questions = input_f.readlines()\n",
    "    questions = [l.strip().split(',')[0] for l in questions]\n",
    "    for id, question in enumerate(questions, 1):\n",
    "        if Path(f\"./{STUDENT_ID}_{id}.txt\").exists():\n",
    "            continue\n",
    "        answer = await pipeline(question)\n",
    "        answer = answer.replace('\\n',' ')\n",
    "        print(id, answer)\n",
    "        with open(f'./{STUDENT_ID}_{id}.txt', 'w') as output_f:\n",
    "            print(answer, file=output_f)\n",
    "\n",
    "with open('./private.txt', 'r') as input_f:\n",
    "    questions = input_f.readlines()\n",
    "    for id, question in enumerate(questions, 31):\n",
    "        if Path(f\"./{STUDENT_ID}_{id}.txt\").exists():\n",
    "            continue\n",
    "        answer = await pipeline(question)\n",
    "        answer = answer.replace('\\n',' ')\n",
    "        print(id, answer)\n",
    "        with open(f'./{STUDENT_ID}_{id}.txt', 'a') as output_f:\n",
    "            print(answer, file=output_f)"
   ]
  },
  {
   "cell_type": "code",
   "execution_count": null,
   "id": "82bb52af",
   "metadata": {
    "execution": {
     "iopub.execute_input": "2025-03-07T07:43:18.543756Z",
     "iopub.status.busy": "2025-03-07T07:43:18.543439Z",
     "iopub.status.idle": "2025-03-07T07:43:18.550265Z",
     "shell.execute_reply": "2025-03-07T07:43:18.549635Z"
    },
    "id": "GmLO9PlmEBPn",
    "papermill": {
     "duration": 0.04894,
     "end_time": "2025-03-07T07:43:18.551515",
     "exception": false,
     "start_time": "2025-03-07T07:43:18.502575",
     "status": "completed"
    },
    "tags": []
   },
   "outputs": [],
   "source": [
    "# Combine the results into one file.\n",
    "with open(f'./{STUDENT_ID}.txt', 'w') as output_f:\n",
    "    for id in range(1,91):\n",
    "        with open(f'./{STUDENT_ID}_{id}.txt', 'r') as input_f:\n",
    "            answer = input_f.readline().strip()\n",
    "            print(answer, file=output_f)"
   ]
  },
  {
   "cell_type": "code",
   "execution_count": null,
   "id": "b8f6dc6c",
   "metadata": {
    "papermill": {
     "duration": 0.039582,
     "end_time": "2025-03-07T07:43:18.631939",
     "exception": false,
     "start_time": "2025-03-07T07:43:18.592357",
     "status": "completed"
    },
    "tags": []
   },
   "outputs": [],
   "source": []
  }
 ],
 "metadata": {
  "accelerator": "GPU",
  "colab": {
   "gpuType": "T4",
   "provenance": []
  },
  "kaggle": {
   "accelerator": "gpu",
   "dataSources": [],
   "dockerImageVersionId": 30886,
   "isGpuEnabled": true,
   "isInternetEnabled": true,
   "language": "python",
   "sourceType": "notebook"
  },
  "kernelspec": {
   "display_name": "Python 3",
   "language": "python",
   "name": "python3"
  },
  "language_info": {
   "codemirror_mode": {
    "name": "ipython",
    "version": 3
   },
   "file_extension": ".py",
   "mimetype": "text/x-python",
   "name": "python",
   "nbconvert_exporter": "python",
   "pygments_lexer": "ipython3",
   "version": "3.10.12"
  },
  "papermill": {
   "default_parameters": {},
   "duration": 6819.688059,
   "end_time": "2025-03-07T07:43:20.201363",
   "environment_variables": {},
   "exception": null,
   "input_path": "__notebook__.ipynb",
   "output_path": "__notebook__.ipynb",
   "parameters": {},
   "start_time": "2025-03-07T05:49:40.513304",
   "version": "2.6.0"
  }
 },
 "nbformat": 4,
 "nbformat_minor": 5
}
